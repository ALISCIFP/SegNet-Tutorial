{
 "cells": [
  {
   "cell_type": "code",
   "execution_count": 2,
   "metadata": {
    "collapsed": false,
    "scrolled": true
   },
   "outputs": [],
   "source": [
    "import numpy as np\n",
    "import matplotlib.pyplot as plt\n",
    "import os.path\n",
    "import json\n",
    "import scipy\n",
    "import argparse\n",
    "import math\n",
    "import pylab\n",
    "from sklearn.preprocessing import normalize\n",
    "caffe_root = '/home/zshen5/GitHub/SegNet-Tutorial/caffe-segnet/' \t\t\t# Change this to the absolute directoy to SegNet Caffe\n",
    "import sys\n",
    "sys.path.insert(0, caffe_root + 'python')\n",
    "\n",
    "import caffe\n",
    "%matplotlib inline"
   ]
  },
  {
   "cell_type": "code",
   "execution_count": 3,
   "metadata": {
    "collapsed": true
   },
   "outputs": [],
   "source": [
    "caffe.set_mode_gpu()\n",
    "net = caffe.Net('/home/zshen5/Models/pascal/inference.prototxt','/home/zshen5/Models/pascal/test_weights.caffemodel',caffe.TEST)"
   ]
  },
  {
   "cell_type": "code",
   "execution_count": null,
   "metadata": {
    "collapsed": false
   },
   "outputs": [],
   "source": [
    "for i in range(0, 3):\n",
    "\n",
    "\tnet.forward()\n",
    "\n",
    "\timage = net.blobs['data'].data\n",
    "\tlabel = net.blobs['label'].data\n",
    "\tpredicted = net.blobs['prob'].data\n",
    "\timage = np.squeeze(image[0,:,:,:])\n",
    "\toutput = np.squeeze(predicted[0,:,:,:])\n",
    "\tind = np.argmax(output, axis=0)\n",
    "\n",
    "\tr = ind.copy()\n",
    "\tg = ind.copy()\n",
    "\tb = ind.copy()\n",
    "\tr_gt = label.copy()\n",
    "\tg_gt = label.copy()\n",
    "\tb_gt = label.copy()\n",
    "\n",
    "\tSky = [128,128,128]\n",
    "\tBuilding = [128,0,0]\n",
    "\tPole = [192,192,128]\n",
    "\tRoad_marking = [255,69,0]\n",
    "\tRoad = [128,64,128]\n",
    "\tPavement = [60,40,222]\n",
    "\tTree = [128,128,0]\n",
    "\tSignSymbol = [192,128,128]\n",
    "\tFence = [64,64,128]\n",
    "\tCar = [64,0,128]\n",
    "\tPedestrian = [64,64,0]\n",
    "\tBicyclist = [0,128,192]\n",
    "\tUnlabelled = [0,0,0]\n",
    "\n",
    "\tlabel_colours = np.array([Sky, Building, Pole, Road, Pavement, Tree, SignSymbol, Fence, Car, Pedestrian, Bicyclist, Unlabelled])\n",
    "\tfor l in range(0,11):\n",
    "\t\tr[ind==l] = label_colours[l,0]\n",
    "\t\tg[ind==l] = label_colours[l,1]\n",
    "\t\tb[ind==l] = label_colours[l,2]\n",
    "\t\tr_gt[label==l] = label_colours[l,0]\n",
    "\t\tg_gt[label==l] = label_colours[l,1]\n",
    "\t\tb_gt[label==l] = label_colours[l,2]\n",
    "\n",
    "\trgb = np.zeros((ind.shape[0], ind.shape[1], 3))\n",
    "\trgb[:,:,0] = r/255.0\n",
    "\trgb[:,:,1] = g/255.0\n",
    "\trgb[:,:,2] = b/255.0\n",
    "\trgb_gt = np.zeros((ind.shape[0], ind.shape[1], 3))\n",
    "\trgb_gt[:,:,0] = r_gt/255.0\n",
    "\trgb_gt[:,:,1] = g_gt/255.0\n",
    "\trgb_gt[:,:,2] = b_gt/255.0\n",
    "\n",
    "\timage = image/255.0\n",
    "\n",
    "\timage = np.transpose(image, (1,2,0))\n",
    "\toutput = np.transpose(output, (1,2,0))\n",
    "\timage = image[:,:,(2,1,0)]\n",
    "\n",
    "\n",
    "\t#scipy.misc.toimage(rgb, cmin=0.0, cmax=255).save(IMAGE_FILE+'_segnet.png')\n",
    "\n",
    "\tplt.figure()\n",
    "\tplt.imshow(image,vmin=0, vmax=1)\n",
    "\tplt.figure()\n",
    "\tplt.imshow(rgb_gt,vmin=0, vmax=1)\n",
    "\tplt.figure()\n",
    "\tplt.imshow(rgb,vmin=0, vmax=1)\n",
    "\tplt.show()\n",
    "\n",
    "\n",
    "print 'Success!'"
   ]
  },
  {
   "cell_type": "code",
   "execution_count": null,
   "metadata": {
    "collapsed": true
   },
   "outputs": [],
   "source": []
  }
 ],
 "metadata": {
  "kernelspec": {
   "display_name": "Python 2",
   "language": "python",
   "name": "python2"
  },
  "language_info": {
   "codemirror_mode": {
    "name": "ipython",
    "version": 2
   },
   "file_extension": ".py",
   "mimetype": "text/x-python",
   "name": "python",
   "nbconvert_exporter": "python",
   "pygments_lexer": "ipython2",
   "version": "2.7.6"
  }
 },
 "nbformat": 4,
 "nbformat_minor": 1
}
