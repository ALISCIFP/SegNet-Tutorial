{
 "cells": [
  {
   "cell_type": "code",
   "execution_count": 1,
   "metadata": {
    "collapsed": true
   },
   "outputs": [],
   "source": [
    "with open('/home/zshen5/Data/ImageNet2016/ADEChallengeData2016/images/val.txt','r') as fimg:\n",
    "    imglist=fimg.readlines()\n",
    "    fimg.close()\n",
    "  "
   ]
  },
  {
   "cell_type": "code",
   "execution_count": 2,
   "metadata": {
    "collapsed": true
   },
   "outputs": [],
   "source": [
    "with open('/home/zshen5/Data/ImageNet2016/ADEChallengeData2016/annotations/val.txt','r') as fval:\n",
    "    vallist=fval.readlines()\n",
    "    fval.close()\n"
   ]
  },
  {
   "cell_type": "code",
   "execution_count": 5,
   "metadata": {
    "collapsed": false
   },
   "outputs": [],
   "source": [
    "with open('/home/zshen5/Data/ImageNet2016/ADEChallengeData2016/img_val.txt','w') as fimgval:\n",
    "    for i in range(0,len(imglist)):\n",
    "        fimgval.write(imglist[i]+' '+'/home/zshen5/Data/ImageNet2016/ADEChallengeData2016/annotations/validation/'+vallist[i])\n",
    "    fimgval.close()"
   ]
  },
  {
   "cell_type": "code",
   "execution_count": null,
   "metadata": {
    "collapsed": true
   },
   "outputs": [],
   "source": []
  }
 ],
 "metadata": {
  "kernelspec": {
   "display_name": "Python 2",
   "language": "python",
   "name": "python2"
  },
  "language_info": {
   "codemirror_mode": {
    "name": "ipython",
    "version": 2
   },
   "file_extension": ".py",
   "mimetype": "text/x-python",
   "name": "python",
   "nbconvert_exporter": "python",
   "pygments_lexer": "ipython2",
   "version": "2.7.6"
  }
 },
 "nbformat": 4,
 "nbformat_minor": 1
}
